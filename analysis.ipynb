{
 "cells": [
  {
   "cell_type": "markdown",
   "source": [
    "# Analysis of audit evidence collected with the [LaLA](https://github.com/LiFaytheGoblin/moodle-tool_lala) Moodle Plugin\n",
    "\n",
    "LaLA is a Moodle plugin to enable administrators and auditors of [Moodle Learning Analytics](https://github.com/LiFaytheGoblin/moodle-tool_lala/wiki/Moodle-Learning-Analytics) models to retrieve evidence for an audit, like the sample data collected on the Moodle instance, the calculated features and predictions made by the model. [Learn more about LaLA](https://github.com/LiFaytheGoblin/moodle-tool_lala/wiki).\n",
    "\n",
    "An [audit of an AI-integrating system](https://github.com/LiFaytheGoblin/moodle-tool_lala/wiki/Auditing) like a Moodle Learning Analytics checks different aspects of the system's utility, validity and compliance to ethical values<sup name=\"text1\">[1](#footnote1)</sup>. An audit consists of three steps<sup name=\"text1\">[1](#footnote1)</sup>: \n",
    "1. Formulating claims the system is expected to fullfill\n",
    "2. Gathering evidence to prove or disprove the claims\n",
    "3. Validating the claims using the evidence\n",
    "\n",
    "<sup name=\"footnote1\">1. Fernsel, L. and Simbeck, K. (2023). Assessing the Auditability of Learning Analytics Systems: A Framework and Case Study. Forthcoming. [↩](#text1)</sup>  "
   ],
   "metadata": {
    "collapsed": false
   },
   "id": "1a0b473eb4f64682"
  },
  {
   "cell_type": "markdown",
   "source": [
    "## This notebook\n",
    "\n",
    "This notebook provides an example for step 3 of an audit, claim validation. In this case, the subject of the audit is [Moodle's \"Students at risk of dropping out\" model](https://docs.moodle.org/402/en/Students_at_risk_of_dropping_out). First we formulate the claim that \"Dropout predictions do not show bias against minority groups\" (Step 1). For checking this claim we used LaLA to collect evidence from a Moodle platform: We trained a dropout prediction model and retrieved the predictions it made for a test dataset (Step 2). We can now proceed to the final step and validiate the formulated claim by checking whether the model's predictions are equally accurate for both minority and majority groups (Step 3). "
   ],
   "metadata": {
    "collapsed": false
   },
   "id": "9414b1e8e9d271ed"
  },
  {
   "cell_type": "markdown",
   "source": [
    "## ⚠ Warning about the validity of this analysis ##\n",
    "This notebook functions only as an example for an analysis of evidence retrieved from LaLA. It should not be seen as part of a meaningful audit because of three reasons. Firstly and most importantly, because of the lack of useful training data, the data used for this analysis has been manipulated. Specifically, users have been randomly assigned to minority or majority groups, and they have been randomly assigned to the \"likely to drop out\" or \"not likely to drop out\" classes. The model predictions have been randomized as well. Therefore, the audit results do not reflect the reality. Secondly, this notebook only validates one claim, whereas in a real audit, auditors would formulate and validate numerous claims<sup name=\"text2\">[2](#footnote2)</sup>. Thirdly, this notebook only considers the prediction accuracy difference for one type of group, whereas a real audit would consider more metrics and more groups, depending on the identified risks of inaccurate predictions.\n",
    "\n",
    "<sup name=\"footnote2\">2. Simbeck, K. (2023). They shall be fair, transparent, and robust: Auditing learning analytics systems. AI and Ethics. https://doi.org/10.1007/s43681-023-00292-7 [↩](#text2)</sup>  \n"
   ],
   "metadata": {
    "collapsed": false
   },
   "id": "51897a55dd03e6e4"
  },
  {
   "cell_type": "markdown",
   "source": [
    "# Analysis\n",
    "\n",
    "## Import evidence\n",
    "First, we use [pandas](https://pandas.pydata.org/docs/reference/index.html) to import evidence and load it as a pandas dataframe."
   ],
   "metadata": {
    "collapsed": false
   },
   "id": "6261d8a49c81e3d8"
  },
  {
   "cell_type": "code",
   "execution_count": 1,
   "outputs": [],
   "source": [
    "import pandas as pd\n",
    "\n",
    "d_predictions = pd.read_csv(\"data/predictions.csv\") # Import the predictions."
   ],
   "metadata": {
    "collapsed": false,
    "ExecuteTime": {
     "end_time": "2023-09-07T09:09:41.402593141Z",
     "start_time": "2023-09-07T09:09:41.195015181Z"
    }
   },
   "id": "ae7afdd9db3a55bc"
  },
  {
   "cell_type": "code",
   "execution_count": 2,
   "outputs": [
    {
     "name": "stdout",
     "output_type": "stream",
     "text": [
      "    sampleid  target  prediction\n",
      "0   809237-0       0           1\n",
      "1   745806-0       0           0\n",
      "2  1158255-0       0           0\n",
      "3   506686-0       0           0\n",
      "4  1977658-0       0           0\n",
      "           target  prediction\n",
      "count  453.000000  453.000000\n",
      "mean     0.163355    0.103753\n",
      "std      0.370098    0.305277\n",
      "min      0.000000    0.000000\n",
      "25%      0.000000    0.000000\n",
      "50%      0.000000    0.000000\n",
      "75%      0.000000    0.000000\n",
      "max      1.000000    1.000000\n"
     ]
    }
   ],
   "source": [
    "# Take a look at the imported data.\n",
    "print(d_predictions.head())\n",
    "print(d_predictions.describe())"
   ],
   "metadata": {
    "collapsed": false,
    "ExecuteTime": {
     "end_time": "2023-09-07T09:09:41.415127106Z",
     "start_time": "2023-09-07T09:09:41.404745821Z"
    }
   },
   "id": "1189c1bfbba6e0a8"
  },
  {
   "cell_type": "code",
   "execution_count": 3,
   "outputs": [],
   "source": [
    "# Import the related user data. In this example, we chose 'lang' to be the property by which to form groups.\n",
    "d_related =  pd.read_csv(\"data/related.csv\") "
   ],
   "metadata": {
    "collapsed": false,
    "ExecuteTime": {
     "end_time": "2023-09-07T09:09:41.429055117Z",
     "start_time": "2023-09-07T09:09:41.413729944Z"
    }
   },
   "id": "dcdeb591a9a7406e"
  },
  {
   "cell_type": "code",
   "execution_count": 4,
   "outputs": [
    {
     "name": "stdout",
     "output_type": "stream",
     "text": [
      "        id lang\n",
      "0   809237   en\n",
      "1   745806   de\n",
      "2  1158255   de\n",
      "3   506686   de\n",
      "4  1977658   de\n",
      "lang\n",
      "en    230\n",
      "de    223\n",
      "Name: count, dtype: int64\n"
     ]
    },
    {
     "name": "stderr",
     "output_type": "stream",
     "text": [
      "/tmp/ipykernel_61379/170650683.py:3: FutureWarning: pandas.value_counts is deprecated and will be removed in a future version. Use pd.Series(obj).value_counts() instead.\n",
      "  print(pd.value_counts(d_related['lang']))\n"
     ]
    }
   ],
   "source": [
    "# Take a look at the imported data.\n",
    "print(d_related.head())\n",
    "print(pd.value_counts(d_related['lang']))"
   ],
   "metadata": {
    "collapsed": false,
    "ExecuteTime": {
     "end_time": "2023-09-07T09:09:41.470416218Z",
     "start_time": "2023-09-07T09:09:41.421214448Z"
    }
   },
   "id": "5e47fcbcbaa13177"
  },
  {
   "cell_type": "markdown",
   "source": [
    "## Explore overall model quality\n",
    "\n",
    "In this step, we use [sklearn](https://scikit-learn.org) to have a look at the overall quality of our model, as well as the quality of the model per class (\"likely to drop out\" or \"not likely to drop out\").  "
   ],
   "metadata": {
    "collapsed": false
   },
   "id": "9a4e4cb477e0df58"
  },
  {
   "cell_type": "code",
   "execution_count": 5,
   "outputs": [
    {
     "name": "stdout",
     "output_type": "stream",
     "text": [
      "                        precision    recall  f1-score   support\n",
      "\n",
      "Not likely to drop out       0.83      0.89      0.86       379\n",
      "    Likely to drop out       0.13      0.08      0.10        74\n",
      "\n",
      "              accuracy                           0.76       453\n",
      "             macro avg       0.48      0.49      0.48       453\n",
      "          weighted avg       0.72      0.76      0.74       453\n"
     ]
    }
   ],
   "source": [
    "from sklearn.metrics import classification_report\n",
    "\n",
    "y_test = d_predictions['target']; # Get the truth values from the predictions dataframe.\n",
    "y_pred = d_predictions['prediction']; # Get the prediction values from the predictions dataframe.\n",
    "\n",
    "report = classification_report(y_test, y_pred, target_names=['Not likely to drop out', 'Likely to drop out'])\n",
    "\n",
    "print(report)"
   ],
   "metadata": {
    "collapsed": false,
    "ExecuteTime": {
     "end_time": "2023-09-07T09:09:41.752074993Z",
     "start_time": "2023-09-07T09:09:41.425700896Z"
    }
   },
   "id": "351c7b6b1a80c560"
  },
  {
   "cell_type": "markdown",
   "source": [
    "## Fairness analysis\n",
    "\n",
    "Next, we use [fairlearn](https://fairlearn.org) to judge the quality of the results differentiated by group. Groups are defined by the attribute a user has entered as \"lang\" (language). While fairlearn provides many possible fairness metrics, for the simplicity of this audit, we just compare the accuracy by group. A true audit would make a risk-based selection of fairness metrics."
   ],
   "metadata": {
    "collapsed": false
   },
   "id": "24d163d5f30e83f1"
  },
  {
   "cell_type": "code",
   "execution_count": 6,
   "outputs": [],
   "source": [
    "# Assign to each d_predictions the fitting lang\n",
    "\n",
    "d_predictions['id'] = d_predictions['sampleid'].str.split('-').str[0] # Get only the id part of the sampleid\n",
    "\n",
    "d_predictions['id'] = d_predictions['id'].astype(int)\n",
    "d_related['id'] = d_related['id'].astype(int)\n",
    "\n",
    "id_to_lang = d_related.set_index('id')['lang'].to_dict()  # Create a mapping dictionary\n",
    "\n",
    "d_predictions['lang'] = d_predictions['id'].map(id_to_lang)"
   ],
   "metadata": {
    "collapsed": false,
    "ExecuteTime": {
     "end_time": "2023-09-07T09:09:41.752317879Z",
     "start_time": "2023-09-07T09:09:41.746568076Z"
    }
   },
   "id": "b33ae9f2627c9bf3"
  },
  {
   "cell_type": "code",
   "execution_count": 7,
   "outputs": [
    {
     "name": "stderr",
     "output_type": "stream",
     "text": [
      "/home/linda/Repositories/moodle-tool_lala-example-evidence-analysis/venv/lib/python3.10/site-packages/fairlearn/metrics/_disaggregated_result.py:235: FutureWarning: DataFrame.applymap has been deprecated. Use DataFrame.map instead.\n",
      "  mf = mf.applymap(lambda x: x if np.isscalar(x) else np.nan)\n",
      "/home/linda/Repositories/moodle-tool_lala-example-evidence-analysis/venv/lib/python3.10/site-packages/fairlearn/metrics/_disaggregated_result.py:235: FutureWarning: DataFrame.applymap has been deprecated. Use DataFrame.map instead.\n",
      "  mf = mf.applymap(lambda x: x if np.isscalar(x) else np.nan)\n",
      "/home/linda/Repositories/moodle-tool_lala-example-evidence-analysis/venv/lib/python3.10/site-packages/fairlearn/metrics/_disaggregated_result.py:235: FutureWarning: DataFrame.applymap has been deprecated. Use DataFrame.map instead.\n",
      "  mf = mf.applymap(lambda x: x if np.isscalar(x) else np.nan)\n"
     ]
    }
   ],
   "source": [
    "from sklearn.metrics import accuracy_score\n",
    "from fairlearn.metrics import MetricFrame\n",
    "\n",
    "metrics = { \"accuracy\": accuracy_score } # Select fairness metrics (accuracy score)\n",
    "\n",
    "mf = MetricFrame(metrics=metrics, y_true=y_test, y_pred=y_pred, sensitive_features=d_predictions['lang']) # Calculate the selected fairness metrics."
   ],
   "metadata": {
    "collapsed": false,
    "ExecuteTime": {
     "end_time": "2023-09-07T09:09:41.791822784Z",
     "start_time": "2023-09-07T09:09:41.748584605Z"
    }
   },
   "id": "8e48b05687e1255c"
  },
  {
   "cell_type": "code",
   "execution_count": 8,
   "outputs": [
    {
     "data": {
      "text/plain": "array([[<Axes: title={'center': 'accuracy'}, xlabel='lang'>,\n        <Axes: xlabel='lang'>]], dtype=object)"
     },
     "execution_count": 8,
     "metadata": {},
     "output_type": "execute_result"
    },
    {
     "data": {
      "text/plain": "<Figure size 600x200 with 2 Axes>",
      "image/png": "[encoded data removed]"
     },
     "metadata": {},
     "output_type": "display_data"
    }
   ],
   "source": [
    "# Plot the calculated fairness metrics.\n",
    "mf.by_group.plot.bar(\n",
    "    subplots=True,\n",
    "    layout=[1, 2],\n",
    "    legend=False,\n",
    "    figsize=[6, 2]\n",
    ")"
   ],
   "metadata": {
    "collapsed": false,
    "ExecuteTime": {
     "end_time": "2023-09-07T09:09:42.141098365Z",
     "start_time": "2023-09-07T09:09:41.771365860Z"
    }
   },
   "id": "2646ee79297c09e5"
  },
  {
   "cell_type": "code",
   "execution_count": 9,
   "outputs": [
    {
     "data": {
      "text/plain": "accuracy    0.023474\ndtype: float64"
     },
     "execution_count": 9,
     "metadata": {},
     "output_type": "execute_result"
    }
   ],
   "source": [
    "# Accuracy comparison: Calculate the accuracy and count difference\n",
    "mf.difference()"
   ],
   "metadata": {
    "collapsed": false,
    "ExecuteTime": {
     "end_time": "2023-09-07T09:09:42.147777303Z",
     "start_time": "2023-09-07T09:09:42.144147500Z"
    }
   },
   "id": "2b3638b97810cfdc"
  },
  {
   "cell_type": "code",
   "execution_count": 10,
   "outputs": [
    {
     "data": {
      "text/plain": "accuracy    0.969565\ndtype: float64"
     },
     "execution_count": 10,
     "metadata": {},
     "output_type": "execute_result"
    }
   ],
   "source": [
    "# Accuracy comparison: Calculate the accuracy and count ratio\n",
    "mf.ratio()"
   ],
   "metadata": {
    "collapsed": false,
    "ExecuteTime": {
     "end_time": "2023-09-07T09:09:42.154824100Z",
     "start_time": "2023-09-07T09:09:42.148958282Z"
    }
   },
   "id": "a318753a22f21b80"
  },
  {
   "cell_type": "markdown",
   "source": [
    "## Interpretation\n",
    "\n",
    "As we can see from the plots as well as the difference and ratio calculations, the accuracies for both available groups 'en' and 'de' are about the same. Therefore we can conclude that the model does not show any bias against minority groups."
   ],
   "metadata": {
    "collapsed": false
   },
   "id": "61ee05578abf80cc"
  }
 ],
 "metadata": {
  "kernelspec": {
   "display_name": "Python 3",
   "language": "python",
   "name": "python3"
  },
  "language_info": {
   "codemirror_mode": {
    "name": "ipython",
    "version": 2
   },
   "file_extension": ".py",
   "mimetype": "text/x-python",
   "name": "python",
   "nbconvert_exporter": "python",
   "pygments_lexer": "ipython2",
   "version": "2.7.6"
  }
 },
 "nbformat": 4,
 "nbformat_minor": 5
}
