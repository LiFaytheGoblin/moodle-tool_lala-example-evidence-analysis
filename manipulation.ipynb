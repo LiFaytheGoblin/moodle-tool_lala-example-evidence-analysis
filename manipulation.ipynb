{
 "cells": [
  {
   "cell_type": "markdown",
   "source": [
    "# Manipulate predictions and truth values"
   ],
   "metadata": {
    "collapsed": false
   },
   "id": "62b8ff52765a9c53"
  },
  {
   "cell_type": "code",
   "execution_count": 1,
   "outputs": [
    {
     "name": "stdout",
     "output_type": "stream",
     "text": [
      "target\n",
      "1    453\n",
      "Name: count, dtype: int64\n",
      "prediction\n",
      "1    453\n",
      "Name: count, dtype: int64\n"
     ]
    },
    {
     "name": "stderr",
     "output_type": "stream",
     "text": [
      "/tmp/ipykernel_60817/3306095295.py:4: FutureWarning: pandas.value_counts is deprecated and will be removed in a future version. Use pd.Series(obj).value_counts() instead.\n",
      "  print(pd.value_counts(d_predictions['target']))\n",
      "/tmp/ipykernel_60817/3306095295.py:5: FutureWarning: pandas.value_counts is deprecated and will be removed in a future version. Use pd.Series(obj).value_counts() instead.\n",
      "  print(pd.value_counts(d_predictions['prediction']))\n"
     ]
    }
   ],
   "source": [
    "import pandas as pd\n",
    "\n",
    "d_predictions = pd.read_csv(\"data/modelversion320-evidencepredictions_dataset733.csv\") # Import the predictions.\n",
    "print(pd.value_counts(d_predictions['target']))\n",
    "print(pd.value_counts(d_predictions['prediction']))"
   ],
   "metadata": {
    "collapsed": false,
    "ExecuteTime": {
     "end_time": "2023-09-07T09:07:04.682713898Z",
     "start_time": "2023-09-07T09:07:04.439017379Z"
    }
   },
   "id": "initial_id"
  },
  {
   "cell_type": "code",
   "execution_count": 2,
   "outputs": [],
   "source": [
    "from scipy.stats import bernoulli\n",
    "\n",
    "n = len(d_predictions)\n",
    "dropout_truths = bernoulli.rvs(0.15, size=n) # We want 15% of 'actual' dropouts.\n",
    "dropout_predictions = bernoulli.rvs(0.1, size=n) # We want 10% of 'predicted' dropouts.\n",
    "\n",
    "d_predictions['target'] = dropout_truths\n",
    "d_predictions['prediction'] = dropout_predictions"
   ],
   "metadata": {
    "collapsed": false,
    "ExecuteTime": {
     "end_time": "2023-09-07T09:07:04.982449998Z",
     "start_time": "2023-09-07T09:07:04.685499635Z"
    }
   },
   "id": "ea71db8a4394cbc1"
  },
  {
   "cell_type": "code",
   "execution_count": 3,
   "outputs": [
    {
     "name": "stdout",
     "output_type": "stream",
     "text": [
      "target\n",
      "0    379\n",
      "1     74\n",
      "Name: count, dtype: int64\n",
      "prediction\n",
      "0    406\n",
      "1     47\n",
      "Name: count, dtype: int64\n"
     ]
    },
    {
     "name": "stderr",
     "output_type": "stream",
     "text": [
      "/tmp/ipykernel_60817/3541328086.py:2: FutureWarning: pandas.value_counts is deprecated and will be removed in a future version. Use pd.Series(obj).value_counts() instead.\n",
      "  print(pd.value_counts(d_predictions['target']))\n",
      "/tmp/ipykernel_60817/3541328086.py:3: FutureWarning: pandas.value_counts is deprecated and will be removed in a future version. Use pd.Series(obj).value_counts() instead.\n",
      "  print(pd.value_counts(d_predictions['prediction']))\n"
     ]
    }
   ],
   "source": [
    "# Check that the dataset looks good now.\n",
    "print(pd.value_counts(d_predictions['target']))\n",
    "print(pd.value_counts(d_predictions['prediction']))"
   ],
   "metadata": {
    "collapsed": false,
    "ExecuteTime": {
     "end_time": "2023-09-07T09:07:05.002961867Z",
     "start_time": "2023-09-07T09:07:04.986386533Z"
    }
   },
   "id": "23a3012651d2039"
  },
  {
   "cell_type": "code",
   "execution_count": 4,
   "outputs": [],
   "source": [
    "d_predictions.to_csv('data/predictions.csv', index=False) # Store dataset."
   ],
   "metadata": {
    "collapsed": false,
    "ExecuteTime": {
     "end_time": "2023-09-07T09:07:05.003121631Z",
     "start_time": "2023-09-07T09:07:04.989816551Z"
    }
   },
   "id": "7474bb14671e0d19"
  },
  {
   "cell_type": "markdown",
   "source": [
    "# Fake related data"
   ],
   "metadata": {
    "collapsed": false
   },
   "id": "ffd90c82980aba1e"
  },
  {
   "cell_type": "code",
   "execution_count": 5,
   "outputs": [],
   "source": [
    "d_related = d_predictions\n",
    "d_related['id'] = d_related['sampleid'].str.split('-').str[0]"
   ],
   "metadata": {
    "collapsed": false,
    "ExecuteTime": {
     "end_time": "2023-09-07T09:07:05.003235950Z",
     "start_time": "2023-09-07T09:07:04.997038327Z"
    }
   },
   "id": "7ee908fd9dfb7e8"
  },
  {
   "cell_type": "code",
   "execution_count": 6,
   "outputs": [],
   "source": [
    "import numpy as np\n",
    "\n",
    "mapping = {0: 'en', 1: 'de'}\n",
    "\n",
    "lang_numeric = bernoulli.rvs(0.50, size=len(d_related)) # We want 30% of people who have chosen 'de' as a language.\n",
    "lang_textual = np.vectorize(mapping.get)(lang_numeric) # replace numerical values with textual values for readability.\n",
    "\n",
    "d_related['lang'] = lang_textual # We can do this since in this case, sample ids are unique."
   ],
   "metadata": {
    "collapsed": false,
    "ExecuteTime": {
     "end_time": "2023-09-07T09:07:05.048080808Z",
     "start_time": "2023-09-07T09:07:04.999041992Z"
    }
   },
   "id": "1901dd559d8cb3be"
  },
  {
   "cell_type": "code",
   "execution_count": 7,
   "outputs": [
    {
     "name": "stderr",
     "output_type": "stream",
     "text": [
      "/tmp/ipykernel_60817/3231574540.py:1: FutureWarning: pandas.value_counts is deprecated and will be removed in a future version. Use pd.Series(obj).value_counts() instead.\n",
      "  pd.value_counts(d_related['lang']) # Check that the dataset looks good now.\n"
     ]
    },
    {
     "data": {
      "text/plain": "lang\nen    230\nde    223\nName: count, dtype: int64"
     },
     "execution_count": 7,
     "metadata": {},
     "output_type": "execute_result"
    }
   ],
   "source": [
    "pd.value_counts(d_related['lang']) # Check that the dataset looks good now."
   ],
   "metadata": {
    "collapsed": false,
    "ExecuteTime": {
     "end_time": "2023-09-07T09:07:05.048454487Z",
     "start_time": "2023-09-07T09:07:05.043088219Z"
    }
   },
   "id": "615a6a39a71e0c45"
  },
  {
   "cell_type": "code",
   "execution_count": 8,
   "outputs": [],
   "source": [
    "d_related.to_csv('data/related.csv', index=False, columns=['id', 'lang']) # Store dataset."
   ],
   "metadata": {
    "collapsed": false,
    "ExecuteTime": {
     "end_time": "2023-09-07T09:07:05.048540872Z",
     "start_time": "2023-09-07T09:07:05.043235043Z"
    }
   },
   "id": "6007c9dd7357f8b3"
  },
  {
   "cell_type": "code",
   "execution_count": 8,
   "outputs": [],
   "source": [],
   "metadata": {
    "collapsed": false,
    "ExecuteTime": {
     "end_time": "2023-09-07T09:07:05.048614739Z",
     "start_time": "2023-09-07T09:07:05.043290496Z"
    }
   },
   "id": "f5fcb83812cde873"
  }
 ],
 "metadata": {
  "kernelspec": {
   "display_name": "Python 3",
   "language": "python",
   "name": "python3"
  },
  "language_info": {
   "codemirror_mode": {
    "name": "ipython",
    "version": 2
   },
   "file_extension": ".py",
   "mimetype": "text/x-python",
   "name": "python",
   "nbconvert_exporter": "python",
   "pygments_lexer": "ipython2",
   "version": "2.7.6"
  }
 },
 "nbformat": 4,
 "nbformat_minor": 5
}
